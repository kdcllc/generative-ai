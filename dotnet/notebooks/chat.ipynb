{
 "cells": [
  {
   "attachments": {},
   "cell_type": "markdown",
   "metadata": {},
   "source": [
    "#### Configure your AI service credentials\n",
    "\n",
    "Use [this notebook](setup.ipynb) first, to choose whether to run these notebooks with OpenAI or Azure OpenAI,\n",
    "and to save your credentials in the configuration file."
   ]
  },
  {
   "cell_type": "code",
   "execution_count": 6,
   "metadata": {
    "dotnet_interactive": {
     "language": "csharp"
    },
    "polyglot_notebook": {
     "kernelName": "csharp"
    }
   },
   "outputs": [
    {
     "data": {
      "text/html": [
       "<div><div><strong>Restore sources</strong><ul><li><span>https://nuget.pkg.github.com/Microsoft.SemanticKernel/index.json</span></li><li><span>https://nuget.pkg.github.com/microsoft/index.json</span></li><li><span>https://nuget.pkg.github.com/microsoft/Microsoft.SemanticKernel/index.json</span></li></ul></div><div></div><div><strong>Installed Packages</strong><ul><li><span>Microsoft.SemanticKernel, 0.24.230918.1-preview</span></li></ul></div></div>"
      ]
     },
     "metadata": {},
     "output_type": "display_data"
    }
   ],
   "source": [
    "// Load some helper functions, e.g. to load values from settings.json\n",
    "#!import config/Settings.cs \n",
    "\n",
    "// Import Semantic Kernel\n",
    "#r \"nuget: Microsoft.SemanticKernel, 0.24.230918.1-preview\"\n",
    "\n",
    "// Instantiate the Kernel\n",
    "using Microsoft.SemanticKernel;\n",
    "\n",
    "//Create Kernel builder\n",
    "var builder = new KernelBuilder();\n",
    "\n",
    "// Configure AI service credentials used by the kernel\n",
    "var (useAzureOpenAI, model, azureEndpoint, apiKey, orgId) = Settings.LoadFromFile();\n",
    "\n",
    "if (useAzureOpenAI)\n",
    "    builder.WithAzureChatCompletionService(model, azureEndpoint, apiKey);\n",
    "else\n",
    "    builder.WithOpenAIChatCompletionService(model, apiKey, orgId);\n",
    "\n",
    "IKernel kernel = builder.Build();\n"
   ]
  },
  {
   "attachments": {},
   "cell_type": "markdown",
   "metadata": {},
   "source": [
    "#### Get User Input and Run a SemanticFunction\n",
    "\n",
    "It executes call to generative model a specified input as a prompt. If we ask what time is it, the model will not be able to response to that. That is where **native functions** come into play."
   ]
  },
  {
   "cell_type": "code",
   "execution_count": null,
   "metadata": {
    "dotnet_interactive": {
     "language": "csharp"
    },
    "polyglot_notebook": {
     "kernelName": "csharp"
    }
   },
   "outputs": [],
   "source": [
    "using InteractiveKernel = Microsoft.DotNet.Interactive.Kernel;\n",
    "using Microsoft.SemanticKernel;\n",
    "\n",
    "var name = await InteractiveKernel.GetInputAsync(\"Question: \");\n",
    "\n",
    "// response is limited to 2000 tokens\n",
    "// tell me a joke\n",
    "// was the joke\n",
    "// each chat session is stateless\n",
    "Console.WriteLine(await kernel.InvokeSemanticFunctionAsync(name, maxTokens: 2000));\n",
    "Console.WriteLine();"
   ]
  },
  {
   "cell_type": "markdown",
   "metadata": {},
   "source": [
    "SK supports multiple kinds of functions that can be invoked:\n",
    "\n",
    "1. [\"semantic functions\"](https://learn.microsoft.com/en-us/semantic-kernel/ai-orchestration/plugins/semantic-functions/inline-semantic-functions?tabs=Csharp) (text-based interactions with AI) \n",
    "2. [\"native functions\"](https://learn.microsoft.com/en-us/semantic-kernel/ai-orchestration/plugins/native-functions/using-the-skfunction-decorator?tabs=Csharp) (.NET methods that can do anything C# code can do)"
   ]
  },
  {
   "cell_type": "markdown",
   "metadata": {},
   "source": [
    "#### Create a **native function** to tell the time."
   ]
  },
  {
   "cell_type": "code",
   "execution_count": 10,
   "metadata": {
    "dotnet_interactive": {
     "language": "csharp"
    },
    "polyglot_notebook": {
     "kernelName": "csharp"
    }
   },
   "outputs": [
    {
     "name": "stdout",
     "output_type": "stream",
     "text": [
      "The date is October 9th, 2023.\n",
      "\n"
     ]
    }
   ],
   "source": [
    "using Microsoft.SemanticKernel;\n",
    "using Microsoft.SemanticKernel.SkillDefinition;\n",
    "\n",
    "\n",
    "// 1. register a native function that returns time and date\n",
    "kernel.RegisterCustomFunction(\n",
    "    SKFunction.FromNativeFunction(\n",
    "        () => $\"{DateTime.UtcNow:r}\",\n",
    "        \"DateTime\", \"Now\",\n",
    "        \"Gets the current date and time\"));\n",
    "        \n",
    "// 2. register a semintic function that uses the native function       \n",
    "ISKFunction qa = kernel.CreateSemanticFunction(\"\"\"\n",
    "    The current date and time is {{ datetime.now }}.\n",
    "    {{ $input }}\n",
    "    \"\"\", maxTokens: 2000);\n",
    "\n",
    "// what day of the week is it?\n",
    "// what time is it?\n",
    "// what is the date?\n",
    "var name = await InteractiveKernel.GetInputAsync(\"Question: \");\n",
    "Console.WriteLine(await qa.InvokeAsync(name, kernel.Skills));\n",
    "Console.WriteLine();"
   ]
  }
 ],
 "metadata": {
  "kernelspec": {
   "display_name": ".NET (C#)",
   "language": "C#",
   "name": ".net-csharp"
  },
  "language_info": {
   "name": "polyglot-notebook"
  },
  "polyglot_notebook": {
   "kernelInfo": {
    "defaultKernelName": "csharp",
    "items": [
     {
      "aliases": [],
      "name": "csharp"
     }
    ]
   }
  }
 },
 "nbformat": 4,
 "nbformat_minor": 2
}
